{
  "nbformat": 4,
  "nbformat_minor": 0,
  "metadata": {
    "colab": {
      "provenance": [],
      "gpuType": "T4"
    },
    "kernelspec": {
      "name": "python3",
      "display_name": "Python 3"
    },
    "language_info": {
      "name": "python"
    },
    "accelerator": "GPU"
  },
  "cells": [
    {
      "cell_type": "markdown",
      "metadata": {
        "id": "view-in-github"
      },
      "source": [
        "[![Open In Colab](https://colab.research.google.com/assets/colab-badge.svg)](https://colab.research.google.com/github/camenduru/Matting-Anything-colab/blob/main/matting_anything_colab.ipynb)"
      ]
    },
    {
      "cell_type": "code",
      "execution_count": null,
      "metadata": {
        "id": "gnFREAlwFXLd"
      },
      "outputs": [],
      "source": [
        "%cd /content\n",
        "!git clone https://github.com/camenduru/Matting-Anything\n",
        "%cd /content/Matting-Anything\n",
        "\n",
        "!pip install -r requirements.txt\n",
        "!python -m pip install -e segment-anything\n",
        "\n",
        "%env BUILD_WITH_CUDA=True\n",
        "!python -m pip install -e GroundingDINO\n",
        "!pip install --upgrade diffusers[torch]\n",
        "\n",
        "!apt -y install -qq aria2\n",
        "!aria2c --console-log-level=error -c -x 16 -s 16 -k 1M https://huggingface.co/camenduru/Matting-Anything/resolve/main/mam_sam_vitb.pth -d /content/Matting-Anything/checkpoints -o mam_sam_vitb.pth\n",
        "!aria2c --console-log-level=error -c -x 16 -s 16 -k 1M https://huggingface.co/camenduru/Matting-Anything/resolve/main/groundingdino_swint_ogc.pth -d /content/Matting-Anything/checkpoints -o groundingdino_swint_ogc.pth\n",
        "\n",
        "%cd /content/Matting-Anything\n",
        "!python gradio_app.py"
      ]
    },
    {
      "cell_type": "code",
      "source": [
        "%cd /content/Matting-Anything\n",
        "!python gradio_app.py --share"
      ],
      "metadata": {
        "colab": {
          "base_uri": "https://localhost:8080/"
        },
        "id": "hUyrSy8hF22U",
        "outputId": "c3f6b06a-da38-468f-802b-868b00f7919d"
      },
      "execution_count": null,
      "outputs": []
    }
  ]
}
