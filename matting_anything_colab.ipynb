{
  "cells": [
    {
      "cell_type": "markdown",
      "metadata": {
        "id": "view-in-github"
      },
      "source": [
        "[![Open In Colab](https://colab.research.google.com/assets/colab-badge.svg)](https://colab.research.google.com/github/camenduru/Matting-Anything-colab/blob/main/matting_anything_colab.ipynb)"
      ]
    },
    {
      "cell_type": "code",
      "execution_count": null,
      "metadata": {
        "id": "gnFREAlwFXLd"
      },
      "outputs": [],
      "source": [
        "%cd /content\n",
        "!git clone https://github.com/camenduru/Matting-Anything\n",
        "%cd /content/Matting-Anything\n",
        "\n",
        "!pip install -r requirements.txt\n",
        "!pip install -e segment-anything\n",
        "\n",
        "%env BUILD_WITH_CUDA=True\n",
        "!pip install -e GroundingDINO\n",
        "!pip install --upgrade diffusers[torch]\n",
        "\n",
        "!apt -y install -qq aria2\n",
        "!aria2c --console-log-level=error -c -x 16 -s 16 -k 1M https://huggingface.co/camenduru/Matting-Anything/resolve/main/mam_sam_vitb.pth -d /content/Matting-Anything/checkpoints -o mam_sam_vitb.pth\n",
        "!aria2c --console-log-level=error -c -x 16 -s 16 -k 1M https://huggingface.co/camenduru/Matting-Anything/resolve/main/groundingdino_swint_ogc.pth -d /content/Matting-Anything/checkpoints -o groundingdino_swint_ogc.pth\n",
        "\n",
        "%cd /content/Matting-Anything\n",
        "!python gradio_app.py"
      ]
    }
  ],
  "metadata": {
    "accelerator": "GPU",
    "colab": {
      "gpuType": "T4",
      "provenance": []
    },
    "kernelspec": {
      "display_name": "Python 3",
      "name": "python3"
    },
    "language_info": {
      "name": "python"
    }
  },
  "nbformat": 4,
  "nbformat_minor": 0
}
